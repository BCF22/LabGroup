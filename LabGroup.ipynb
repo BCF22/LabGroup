{
 "cells": [
  {
   "cell_type": "code",
   "execution_count": 2,
   "metadata": {},
   "outputs": [
    {
     "name": "stdout",
     "output_type": "stream",
     "text": [
      "what is your name? Ryan\n",
      "how old are you?23\n",
      "Ryan, you are 345 in dog years\n"
     ]
    }
   ],
   "source": [
    "name = input(prompt=\"what is your name? \")\n",
    "age = input(prompt=\"how old are you? \")\n",
    "\n",
    "print(str(name)+\", you are \"+str(15*int(age))+\" in dog years\")"
   ]
  }
 ],
 "metadata": {
  "kernelspec": {
   "display_name": "Python 3",
   "language": "python",
   "name": "python3"
  },
  "language_info": {
   "codemirror_mode": {
    "name": "ipython",
    "version": 3
   },
   "file_extension": ".py",
   "mimetype": "text/x-python",
   "name": "python",
   "nbconvert_exporter": "python",
   "pygments_lexer": "ipython3",
   "version": "3.8.5"
  }
 },
 "nbformat": 4,
 "nbformat_minor": 4
}
