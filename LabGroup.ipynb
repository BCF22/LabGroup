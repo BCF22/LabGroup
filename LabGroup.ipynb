{
 "cells": [
  {
   "cell_type": "code",
   "execution_count": null,
   "metadata": {},
   "outputs": [
    {
     "ename": "",
     "evalue": "",
     "output_type": "error",
     "traceback": [
      "\u001b[1;31mJupyter cannot be started. Error attempting to locate jupyter: Running cells with 'Python 3.8.10 64-bit' requires jupyter and notebook package.\n",
      "Run the following command to install 'jupyter and notebook' into the Python environment. \n",
      "Command: '/bin/python3 -m pip install jupyter notebook -U'"
     ]
    }
   ],
   "source": [
    "nameQuestion = \"what is your name? \"\n",
    "ageQuestion = \"how old are you? \"\n",
    "name = input(nameQuestion)\n",
    "age = input(ageQuestion)\n",
    "\n",
    "try:\n",
    "    output = name + \", you are \" + str(15*int(age)) + \" in dog years\"\n",
    "except ValueError:\n",
    "    output = \"please enter a valid number\"\n",
    "    \n",
    "print(output)"
   ]
  }
 ],
 "metadata": {
  "kernelspec": {
   "display_name": "Python 3",
   "language": "python",
   "name": "python3"
  },
  "language_info": {
   "codemirror_mode": {
    "name": "ipython",
    "version": 3
   },
   "file_extension": ".py",
   "mimetype": "text/x-python",
   "name": "python",
   "nbconvert_exporter": "python",
   "pygments_lexer": "ipython3",
   "version": "3.8.10"
  }
 },
 "nbformat": 4,
 "nbformat_minor": 4
}
